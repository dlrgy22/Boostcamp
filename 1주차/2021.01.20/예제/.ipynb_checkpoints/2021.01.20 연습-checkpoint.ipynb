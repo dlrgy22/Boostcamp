{
 "cells": [
  {
   "cell_type": "code",
   "execution_count": 2,
   "id": "solid-compromise",
   "metadata": {},
   "outputs": [],
   "source": [
    "s1 = set([1, 2, 3, 4, 5])\n",
    "s2 = set([3, 4, 5, 6, 7])"
   ]
  },
  {
   "cell_type": "code",
   "execution_count": 3,
   "id": "prepared-lying",
   "metadata": {},
   "outputs": [
    {
     "data": {
      "text/plain": [
       "{1, 2, 3, 4, 5, 6, 7}"
      ]
     },
     "execution_count": 3,
     "metadata": {},
     "output_type": "execute_result"
    }
   ],
   "source": [
    "# 합집합\n",
    "s1.union(s2)"
   ]
  },
  {
   "cell_type": "code",
   "execution_count": 4,
   "id": "thrown-stand",
   "metadata": {},
   "outputs": [
    {
     "data": {
      "text/plain": [
       "{3, 4, 5}"
      ]
     },
     "execution_count": 4,
     "metadata": {},
     "output_type": "execute_result"
    }
   ],
   "source": [
    "#교집합\n",
    "s1.intersection(s2)"
   ]
  },
  {
   "cell_type": "code",
   "execution_count": 5,
   "id": "fourth-duplicate",
   "metadata": {},
   "outputs": [
    {
     "data": {
      "text/plain": [
       "{1, 2}"
      ]
     },
     "execution_count": 5,
     "metadata": {},
     "output_type": "execute_result"
    }
   ],
   "source": [
    "#차집합\n",
    "s1.difference(s2)"
   ]
  },
  {
   "cell_type": "code",
   "execution_count": 2,
   "id": "touched-letter",
   "metadata": {},
   "outputs": [],
   "source": [
    "# 하나의 지문에 단어가 몇개가 있을까?\n",
    "from collections import defaultdict\n",
    "from collections import Counter\n",
    "\n",
    "text =\"\"\"A press release is the quickest and easiest way to get free publicity. \n",
    "        If well written, a press release can result in multiple published articles about your firm and its products. \n",
    "        And that can mean new prospects contacting you asking you to sell to them. ….\"\"\".lower().split()"
   ]
  },
  {
   "cell_type": "code",
   "execution_count": 6,
   "id": "dedicated-prime",
   "metadata": {},
   "outputs": [
    {
     "name": "stdout",
     "output_type": "stream",
     "text": [
      "('and', 3)\n",
      "('to', 3)\n",
      "('a', 2)\n",
      "('press', 2)\n",
      "('release', 2)\n",
      "('can', 2)\n",
      "('you', 2)\n",
      "('is', 1)\n",
      "('the', 1)\n",
      "('quickest', 1)\n"
     ]
    }
   ],
   "source": [
    "# list를 반환하지 않고 yield\n",
    "\n",
    "def get_word_count():\n",
    "    word_count = defaultdict(lambda: 0)\n",
    "    for word in text:\n",
    "        word_count[word] += 1\n",
    "\n",
    "    for element in sorted(word_count.items(), key = lambda x: x[1], reverse = True):\n",
    "        yield element[0], element[1]\n",
    "\n",
    "gw = get_word_count()\n",
    "for i in range(10):\n",
    "    print(next(gw))"
   ]
  },
  {
   "cell_type": "code",
   "execution_count": 9,
   "id": "promotional-parallel",
   "metadata": {},
   "outputs": [
    {
     "name": "stdout",
     "output_type": "stream",
     "text": [
      "11 22\n"
     ]
    }
   ],
   "source": [
    "from collections import namedtuple\n",
    "Point = namedtuple('Point', ['x', 'y'])\n",
    "p = Point(11, 22)\n",
    "print(p.x, p.y)"
   ]
  },
  {
   "cell_type": "code",
   "execution_count": 10,
   "id": "forty-middle",
   "metadata": {},
   "outputs": [
    {
     "name": "stdout",
     "output_type": "stream",
     "text": [
      "0 one two\n",
      "1 two three\n",
      "2 three one\n"
     ]
    }
   ],
   "source": [
    "list_1 = ['one', 'two', 'three']\n",
    "list_2 = ['two', 'three', 'one']\n",
    "\n",
    "for i, (a, b) in enumerate(zip(list_1, list_2)):\n",
    "    print(i, a, b)\n"
   ]
  },
  {
   "cell_type": "code",
   "execution_count": 11,
   "id": "distributed-disposal",
   "metadata": {},
   "outputs": [
    {
     "name": "stdout",
     "output_type": "stream",
     "text": [
      "1 (2, 3, 4, 5, 6)\n",
      "<class 'tuple'>\n"
     ]
    }
   ],
   "source": [
    "def asterisk_test(a, *args):\n",
    "    print(a, args)\n",
    "    print(type(args))\n",
    "asterisk_test(1, *(2,3,4,5,6))"
   ]
  }
 ],
 "metadata": {
  "kernelspec": {
   "display_name": "Python 3",
   "language": "python",
   "name": "python3"
  },
  "language_info": {
   "codemirror_mode": {
    "name": "ipython",
    "version": 3
   },
   "file_extension": ".py",
   "mimetype": "text/x-python",
   "name": "python",
   "nbconvert_exporter": "python",
   "pygments_lexer": "ipython3",
   "version": "3.8.5"
  }
 },
 "nbformat": 4,
 "nbformat_minor": 5
}

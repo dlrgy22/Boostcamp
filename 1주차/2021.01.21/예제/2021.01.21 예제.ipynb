{
 "cells": [
  {
   "cell_type": "code",
   "execution_count": 1,
   "id": "liked-salmon",
   "metadata": {},
   "outputs": [],
   "source": [
    "class SoccerPlayer(object):\n",
    "    def __init__(self, name : str, position : str, back_number :int):\n",
    "        self.name = name\n",
    "        self.position = position\n",
    "        self.back_number = back_number\n",
    "        \n",
    "    def change_back_number(self, new_number : int):\n",
    "        print(f\"선수의 등번호를 변경합니다 : From {self.back_number} to {new_number}\")\n",
    "        self.back_number = new_number\n",
    "        \n",
    "    #__str__ =>해당 class로 만들어진 instance를 print할 때 출력\" \n",
    "    def __str__(self): \n",
    "        return f\"Hello My name is {self.name} My back number is {self.back_number}\"\n",
    "    \n",
    "    #__add__ =>해당 class로 만들어진 instance를 + 할 때 발생\n",
    "    def __add__(self, other):\n",
    "        return self.name + other.name"
   ]
  },
  {
   "cell_type": "code",
   "execution_count": 2,
   "id": "distant-cabinet",
   "metadata": {},
   "outputs": [],
   "source": [
    "son = SoccerPlayer(\"son\", \"FW\", 7)\n",
    "park = SoccerPlayer(\"park\", \"WF\", 13)\n"
   ]
  },
  {
   "cell_type": "code",
   "execution_count": 3,
   "id": "immune-freight",
   "metadata": {},
   "outputs": [
    {
     "name": "stdout",
     "output_type": "stream",
     "text": [
      "Hello My name is son My back number is 7\n",
      "Hello My name is park My back number is 13\n"
     ]
    }
   ],
   "source": [
    "print(son)\n",
    "print(park)"
   ]
  },
  {
   "cell_type": "code",
   "execution_count": 4,
   "id": "surface-bloom",
   "metadata": {},
   "outputs": [
    {
     "name": "stdout",
     "output_type": "stream",
     "text": [
      "sonpark\n"
     ]
    }
   ],
   "source": [
    "print(son + park)"
   ]
  },
  {
   "cell_type": "code",
   "execution_count": 5,
   "id": "wicked-treasurer",
   "metadata": {},
   "outputs": [
    {
     "name": "stdout",
     "output_type": "stream",
     "text": [
      "선수의 등번호를 변경합니다 : From 7 to 9\n",
      "Hello My name is son My back number is 9\n"
     ]
    }
   ],
   "source": [
    "son.change_back_number(9)\n",
    "print(son)"
   ]
  },
  {
   "cell_type": "markdown",
   "id": "turkish-ordinary",
   "metadata": {},
   "source": [
    "### Inheritance"
   ]
  },
  {
   "cell_type": "code",
   "execution_count": 7,
   "id": "mediterranean-belly",
   "metadata": {},
   "outputs": [],
   "source": [
    "class Person(object):\n",
    "    def __init__(self, name, age):\n",
    "        self.name = name\n",
    "        self.age = age\n",
    "    \n",
    "    def __str__(self):\n",
    "        return f\"저의 이름은 {self.name}입니다. 나이는 {self.age}입니다.\""
   ]
  },
  {
   "cell_type": "code",
   "execution_count": 8,
   "id": "national-greek",
   "metadata": {},
   "outputs": [],
   "source": [
    "class Korean(Person):\n",
    "    def __init__(self, name, age):\n",
    "        super().__init__(name, age)\n"
   ]
  },
  {
   "cell_type": "code",
   "execution_count": 9,
   "id": "blocked-implement",
   "metadata": {},
   "outputs": [
    {
     "name": "stdout",
     "output_type": "stream",
     "text": [
      "저의 이름은 ikhyo입니다. 나이는 12입니다.\n",
      "ikhyo\n"
     ]
    }
   ],
   "source": [
    "first_korean = Korean(\"ikhyo\", 12)\n",
    "print(first_korean)\n",
    "print(first_korean.name)"
   ]
  }
 ],
 "metadata": {
  "kernelspec": {
   "display_name": "Python 3",
   "language": "python",
   "name": "python3"
  },
  "language_info": {
   "codemirror_mode": {
    "name": "ipython",
    "version": 3
   },
   "file_extension": ".py",
   "mimetype": "text/x-python",
   "name": "python",
   "nbconvert_exporter": "python",
   "pygments_lexer": "ipython3",
   "version": "3.8.5"
  }
 },
 "nbformat": 4,
 "nbformat_minor": 5
}

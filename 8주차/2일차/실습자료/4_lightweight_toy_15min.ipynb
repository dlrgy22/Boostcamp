{
 "cells": [
  {
   "cell_type": "code",
   "execution_count": 2,
   "metadata": {
    "id": "f5ti_Q1t1UBA"
   },
   "outputs": [],
   "source": [
    "import torch\n",
    "from torch import nn\n",
    "from torchsummary import summary as summary_\n",
    "from torch.nn import functional as F\n",
    "import torch.nn.utils.prune as prune"
   ]
  },
  {
   "cell_type": "markdown",
   "metadata": {
    "id": "seBD1HO0aYU0"
   },
   "source": [
    "## Model\n"
   ]
  },
  {
   "cell_type": "code",
   "execution_count": 3,
   "metadata": {
    "id": "UFuPtvoAaTM_"
   },
   "outputs": [],
   "source": [
    "class MnistModel(nn.Module):\n",
    "    def __init__(self):\n",
    "        super(MnistModel, self).__init__()\n",
    "        # input is 28x28\n",
    "        # padding=2 for same padding\n",
    "        self.conv1 = nn.Conv2d(1, 32, 5, padding=2)\n",
    "        # feature map size is 14*14 by pooling\n",
    "        # padding=2 for same padding\n",
    "        self.conv2 = nn.Conv2d(32, 64, 5, padding=2)\n",
    "        # feature map size is 7*7 by pooling\n",
    "        self.fc1 = nn.Linear(64*7*7, 1024)\n",
    "        self.fc2 = nn.Linear(1024, 10)\n",
    "        \n",
    "    def forward(self, x):\n",
    "        x = F.max_pool2d(F.relu(self.conv1(x)), 2)\n",
    "        x = F.max_pool2d(F.relu(self.conv2(x)), 2)\n",
    "        x = x.view(-1, 64*7*7)   # reshape Variable\n",
    "        x = F.relu(self.fc1(x))\n",
    "        x = F.dropout(x, training=self.training)\n",
    "        x = self.fc2(x)\n",
    "        return F.log_softmax(x)\n",
    "    \n",
    "model = MnistModel()"
   ]
  },
  {
   "cell_type": "markdown",
   "metadata": {
    "id": "_7fK-9a8aZo5"
   },
   "source": [
    "## Profiling: parameter"
   ]
  },
  {
   "cell_type": "code",
   "execution_count": 4,
   "metadata": {
    "colab": {
     "base_uri": "https://localhost:8080/"
    },
    "id": "73Adhs5QaXPO",
    "outputId": "ff780ba2-77ae-4958-f0e2-9d2c7e41a0f8"
   },
   "outputs": [
    {
     "name": "stdout",
     "output_type": "stream",
     "text": [
      "----------------------------------------------------------------\n",
      "        Layer (type)               Output Shape         Param #\n",
      "================================================================\n",
      "            Conv2d-1           [10, 32, 28, 28]             832\n",
      "            Conv2d-2           [10, 64, 14, 14]          51,264\n",
      "            Linear-3                 [10, 1024]       3,212,288\n",
      "            Linear-4                   [10, 10]          10,250\n",
      "================================================================\n",
      "Total params: 3,274,634\n",
      "Trainable params: 3,274,634\n",
      "Non-trainable params: 0\n",
      "----------------------------------------------------------------\n",
      "Input size (MB): 0.03\n",
      "Forward/backward pass size (MB): 2.95\n",
      "Params size (MB): 12.49\n",
      "Estimated Total Size (MB): 15.47\n",
      "----------------------------------------------------------------\n"
     ]
    },
    {
     "name": "stderr",
     "output_type": "stream",
     "text": [
      "<ipython-input-3-38b99789a436>:21: UserWarning: Implicit dimension choice for log_softmax has been deprecated. Change the call to include dim=X as an argument.\n",
      "  return F.log_softmax(x)\n"
     ]
    }
   ],
   "source": [
    "summary_(model,(1,28,28),batch_size=10)"
   ]
  },
  {
   "cell_type": "markdown",
   "metadata": {
    "id": "XS6Qd_CYah7Z"
   },
   "source": [
    "## Profiler: torch-sensor\n",
    "- reference: https://github.com/parrt/tensor-sensor\n"
   ]
  },
  {
   "cell_type": "code",
   "execution_count": 8,
   "metadata": {
    "id": "3mLojfqNaVEe"
   },
   "outputs": [
    {
     "name": "stdout",
     "output_type": "stream",
     "text": [
      "Collecting tensor-sensor\n",
      "  Downloading tensor-sensor-0.1.1.tar.gz (21 kB)\n",
      "Collecting graphviz>=0.14.1\n",
      "  Downloading graphviz-0.16-py2.py3-none-any.whl (19 kB)\n",
      "Requirement already satisfied: numpy in /Users/jeong-ighyo/Downloads/ls/lib/python3.8/site-packages (from tensor-sensor) (1.19.5)\n",
      "Requirement already satisfied: IPython in /Users/jeong-ighyo/Downloads/ls/lib/python3.8/site-packages (from tensor-sensor) (7.19.0)\n",
      "Requirement already satisfied: matplotlib in /Users/jeong-ighyo/Downloads/ls/lib/python3.8/site-packages (from tensor-sensor) (3.3.2)\n",
      "Requirement already satisfied: pygments in /Users/jeong-ighyo/Downloads/ls/lib/python3.8/site-packages (from IPython->tensor-sensor) (2.7.4)\n",
      "Requirement already satisfied: traitlets>=4.2 in /Users/jeong-ighyo/Downloads/ls/lib/python3.8/site-packages (from IPython->tensor-sensor) (5.0.5)\n",
      "Requirement already satisfied: appnope; sys_platform == \"darwin\" in /Users/jeong-ighyo/Downloads/ls/lib/python3.8/site-packages (from IPython->tensor-sensor) (0.1.2)\n",
      "Requirement already satisfied: prompt-toolkit!=3.0.0,!=3.0.1,<3.1.0,>=2.0.0 in /Users/jeong-ighyo/Downloads/ls/lib/python3.8/site-packages (from IPython->tensor-sensor) (3.0.8)\n",
      "Requirement already satisfied: pickleshare in /Users/jeong-ighyo/Downloads/ls/lib/python3.8/site-packages (from IPython->tensor-sensor) (0.7.5)\n",
      "Requirement already satisfied: jedi>=0.10 in /Users/jeong-ighyo/Downloads/ls/lib/python3.8/site-packages (from IPython->tensor-sensor) (0.17.2)\n",
      "Requirement already satisfied: backcall in /Users/jeong-ighyo/Downloads/ls/lib/python3.8/site-packages (from IPython->tensor-sensor) (0.2.0)\n",
      "Requirement already satisfied: pexpect>4.3; sys_platform != \"win32\" in /Users/jeong-ighyo/Downloads/ls/lib/python3.8/site-packages (from IPython->tensor-sensor) (4.8.0)\n",
      "Requirement already satisfied: decorator in /Users/jeong-ighyo/Downloads/ls/lib/python3.8/site-packages (from IPython->tensor-sensor) (4.4.2)\n",
      "Requirement already satisfied: setuptools>=18.5 in /Users/jeong-ighyo/Downloads/ls/lib/python3.8/site-packages (from IPython->tensor-sensor) (50.3.1.post20201107)\n",
      "Requirement already satisfied: cycler>=0.10 in /Users/jeong-ighyo/Downloads/ls/lib/python3.8/site-packages (from matplotlib->tensor-sensor) (0.10.0)\n",
      "Requirement already satisfied: pyparsing!=2.0.4,!=2.1.2,!=2.1.6,>=2.0.3 in /Users/jeong-ighyo/Downloads/ls/lib/python3.8/site-packages (from matplotlib->tensor-sensor) (2.4.7)\n",
      "Requirement already satisfied: pillow>=6.2.0 in /Users/jeong-ighyo/Downloads/ls/lib/python3.8/site-packages (from matplotlib->tensor-sensor) (8.1.0)\n",
      "Requirement already satisfied: certifi>=2020.06.20 in /Users/jeong-ighyo/Downloads/ls/lib/python3.8/site-packages (from matplotlib->tensor-sensor) (2020.12.5)\n",
      "Requirement already satisfied: kiwisolver>=1.0.1 in /Users/jeong-ighyo/Downloads/ls/lib/python3.8/site-packages (from matplotlib->tensor-sensor) (1.3.0)\n",
      "Requirement already satisfied: python-dateutil>=2.1 in /Users/jeong-ighyo/Downloads/ls/lib/python3.8/site-packages (from matplotlib->tensor-sensor) (2.8.1)\n",
      "Requirement already satisfied: ipython-genutils in /Users/jeong-ighyo/Downloads/ls/lib/python3.8/site-packages (from traitlets>=4.2->IPython->tensor-sensor) (0.2.0)\n",
      "Requirement already satisfied: wcwidth in /Users/jeong-ighyo/Downloads/ls/lib/python3.8/site-packages (from prompt-toolkit!=3.0.0,!=3.0.1,<3.1.0,>=2.0.0->IPython->tensor-sensor) (0.2.5)\n",
      "Collecting parso<0.8.0,>=0.7.0\n",
      "  Using cached parso-0.7.1-py2.py3-none-any.whl (109 kB)\n",
      "Requirement already satisfied: ptyprocess>=0.5 in /Users/jeong-ighyo/Downloads/ls/lib/python3.8/site-packages (from pexpect>4.3; sys_platform != \"win32\"->IPython->tensor-sensor) (0.7.0)\n",
      "Requirement already satisfied: six in /Users/jeong-ighyo/Downloads/ls/lib/python3.8/site-packages (from cycler>=0.10->matplotlib->tensor-sensor) (1.15.0)\n",
      "Building wheels for collected packages: tensor-sensor\n",
      "  Building wheel for tensor-sensor (setup.py) ... \u001b[?25ldone\n",
      "\u001b[?25h  Created wheel for tensor-sensor: filename=tensor_sensor-0.1.1-py3-none-any.whl size=24320 sha256=67ff682c5af8b41b0be379cbe14f01d2b6ec06c690dae7137d4711af48c4e9bb\n",
      "  Stored in directory: /Users/jeong-ighyo/Library/Caches/pip/wheels/c6/ef/d6/42742e5204f39c0f3a51edf3becebc5f4e1c1a5d55e703df01\n",
      "Successfully built tensor-sensor\n",
      "Installing collected packages: graphviz, tensor-sensor, parso\n",
      "  Attempting uninstall: parso\n",
      "    Found existing installation: parso 0.8.1\n",
      "    Uninstalling parso-0.8.1:\n",
      "      Successfully uninstalled parso-0.8.1\n",
      "Successfully installed graphviz-0.16 parso-0.7.1 tensor-sensor-0.1.1\n"
     ]
    }
   ],
   "source": [
    "!pip install tensor-sensor"
   ]
  },
  {
   "cell_type": "code",
   "execution_count": 12,
   "metadata": {
    "id": "TDigJzsXa4rJ"
   },
   "outputs": [
    {
     "name": "stdout",
     "output_type": "stream",
     "text": [
      "[[ 9]\n",
      " [10]]\n"
     ]
    }
   ],
   "source": [
    "import torch\n",
    "import tsensor\n",
    "import sys\n",
    "import numpy as np\n",
    "\n",
    "W = np.array([[1, 2], [3, 4]])\n",
    "b = np.array([9, 10]).reshape(2, 1)\n",
    "x = np.array([4, 5]).reshape(2, 1)\n",
    "h = np.array([1,2])"
   ]
  },
  {
   "cell_type": "code",
   "execution_count": 10,
   "metadata": {
    "colab": {
     "base_uri": "https://localhost:8080/",
     "height": 134
    },
    "id": "eLoBTytGa6fK",
    "outputId": "531fb96b-932d-44ba-9234-59d60ce93484"
   },
   "outputs": [
    {
     "name": "stderr",
     "output_type": "stream",
     "text": [
      "findfont: Font family ['Consolas'] not found. Falling back to DejaVu Sans.\n"
     ]
    },
    {
     "data": {
      "image/svg+xml": [
       "<svg xmlns=\"http://www.w3.org/2000/svg\" xmlns:xlink=\"http://www.w3.org/1999/xlink\" height=\"46.422278pt\" version=\"1.1\" viewBox=\"0 0 210.527375 46.422278\" width=\"210.527375pt\">\n",
       " <metadata>\n",
       "  <rdf:RDF xmlns:cc=\"http://creativecommons.org/ns#\" xmlns:dc=\"http://purl.org/dc/elements/1.1/\" xmlns:rdf=\"http://www.w3.org/1999/02/22-rdf-syntax-ns#\">\n",
       "   <cc:Work>\n",
       "    <dc:type rdf:resource=\"http://purl.org/dc/dcmitype/StillImage\"/>\n",
       "    <dc:date>2021-03-16T15:24:40.012386</dc:date>\n",
       "    <dc:format>image/svg+xml</dc:format>\n",
       "    <dc:creator>\n",
       "     <cc:Agent>\n",
       "      <dc:title>Matplotlib v3.3.2, https://matplotlib.org/</dc:title>\n",
       "     </cc:Agent>\n",
       "    </dc:creator>\n",
       "   </cc:Work>\n",
       "  </rdf:RDF>\n",
       " </metadata>\n",
       " <defs>\n",
       "  <style type=\"text/css\">*{stroke-linecap:butt;stroke-linejoin:round;}</style>\n",
       " </defs>\n",
       " <g id=\"figure_1\">\n",
       "  <g id=\"patch_1\">\n",
       "   <path d=\"M 0 46.422278  L 210.527375 46.422278  L 210.527375 0  L 0 0  z \" style=\"fill:none;\"/>\n",
       "  </g>\n",
       "  <g id=\"axes_1\">\n",
       "   <g id=\"patch_2\">\n",
       "    <path clip-path=\"url(#p86c5605a8b)\" d=\"M 79.44246 45.606878  L 84.66534 45.606878  L 84.66534 23.346458  L 79.44246 23.346458  z \" style=\"fill:#cfe2d4;stroke:#808080;stroke-linejoin:miter;stroke-width:0.7;\"/>\n",
       "   </g>\n",
       "   <g id=\"patch_3\">\n",
       "    <path clip-path=\"url(#p86c5605a8b)\" d=\"M 92.49966 45.606878  L 97.72254 45.606878  L 97.72254 23.346458  L 92.49966 23.346458  z \" style=\"fill:#cfe2d4;stroke:#808080;stroke-linejoin:miter;stroke-width:0.7;\"/>\n",
       "   </g>\n",
       "   <g id=\"line2d_1\">\n",
       "    <path clip-path=\"url(#p86c5605a8b)\" d=\"M 78.13674 13.619216  L 85.97106 13.619216  \" style=\"fill:none;stroke:#c2c2c2;stroke-linecap:square;stroke-width:0.5;\"/>\n",
       "   </g>\n",
       "   <g id=\"line2d_2\">\n",
       "    <path clip-path=\"url(#p86c5605a8b)\" d=\"M 91.19394 13.619216  L 99.02826 13.619216  \" style=\"fill:none;stroke:#c2c2c2;stroke-linecap:square;stroke-width:0.5;\"/>\n",
       "   </g>\n",
       "   <g id=\"text_1\">\n",
       "    <!-- W -->\n",
       "    <g style=\"fill:#b4b4b4;\" transform=\"translate(6.975 9.877969)scale(0.13 -0.13)\">\n",
       "     <defs>\n",
       "      <path d=\"M 3.328125 72.90625  L 13.28125 72.90625  L 28.609375 11.28125  L 43.890625 72.90625  L 54.984375 72.90625  L 70.3125 11.28125  L 85.59375 72.90625  L 95.609375 72.90625  L 77.296875 0  L 64.890625 0  L 49.515625 63.28125  L 33.984375 0  L 21.578125 0  z \" id=\"DejaVuSans-87\"/>\n",
       "     </defs>\n",
       "     <use xlink:href=\"#DejaVuSans-87\"/>\n",
       "    </g>\n",
       "   </g>\n",
       "   <g id=\"text_2\">\n",
       "    <!--   -->\n",
       "    <g style=\"fill:#b4b4b4;\" transform=\"translate(13.5036 9.877969)scale(0.13 -0.13)\">\n",
       "     <defs>\n",
       "      <path id=\"DejaVuSans-32\"/>\n",
       "     </defs>\n",
       "     <use xlink:href=\"#DejaVuSans-32\"/>\n",
       "    </g>\n",
       "   </g>\n",
       "   <g id=\"text_3\">\n",
       "    <!-- @ -->\n",
       "    <g style=\"fill:#b4b4b4;\" transform=\"translate(20.0322 9.877969)scale(0.13 -0.13)\">\n",
       "     <defs>\n",
       "      <path d=\"M 37.203125 26.21875  Q 37.203125 19.234375 40.671875 15.25  Q 44.140625 11.28125 50.203125 11.28125  Q 56.203125 11.28125 59.640625 15.28125  Q 63.09375 19.28125 63.09375 26.21875  Q 63.09375 33.0625 59.578125 37.078125  Q 56.0625 41.109375 50.09375 41.109375  Q 44.1875 41.109375 40.6875 37.109375  Q 37.203125 33.109375 37.203125 26.21875  z M 63.8125 11.625  Q 60.890625 7.859375 57.109375 6.078125  Q 53.328125 4.296875 48.296875 4.296875  Q 39.890625 4.296875 34.640625 10.375  Q 29.390625 16.453125 29.390625 26.21875  Q 29.390625 35.984375 34.65625 42.078125  Q 39.9375 48.1875 48.296875 48.1875  Q 53.328125 48.1875 57.125 46.359375  Q 60.9375 44.53125 63.8125 40.828125  L 63.8125 47.21875  L 70.796875 47.21875  L 70.796875 11.28125  Q 77.9375 12.359375 81.953125 17.796875  Q 85.984375 23.25 85.984375 31.890625  Q 85.984375 37.109375 84.4375 41.703125  Q 82.90625 46.296875 79.78125 50.203125  Q 74.703125 56.59375 67.40625 59.984375  Q 60.109375 63.375 51.515625 63.375  Q 45.515625 63.375 39.984375 61.78125  Q 34.46875 60.203125 29.78125 57.078125  Q 22.125 52.09375 17.796875 44.015625  Q 13.484375 35.9375 13.484375 26.515625  Q 13.484375 18.75 16.28125 11.953125  Q 19.09375 5.171875 24.421875 0  Q 29.546875 -5.078125 36.28125 -7.734375  Q 43.015625 -10.40625 50.6875 -10.40625  Q 56.984375 -10.40625 63.0625 -8.28125  Q 69.140625 -6.15625 74.21875 -2.203125  L 78.609375 -7.625  Q 72.515625 -12.359375 65.3125 -14.875  Q 58.109375 -17.390625 50.6875 -17.390625  Q 41.65625 -17.390625 33.640625 -14.1875  Q 25.640625 -10.984375 19.390625 -4.890625  Q 13.140625 1.21875 9.859375 9.25  Q 6.59375 17.28125 6.59375 26.515625  Q 6.59375 35.40625 9.90625 43.453125  Q 13.234375 51.515625 19.390625 57.625  Q 25.6875 63.8125 33.9375 67.109375  Q 42.1875 70.40625 51.421875 70.40625  Q 61.765625 70.40625 70.625 66.15625  Q 79.5 61.921875 85.5 54.109375  Q 89.15625 49.3125 91.078125 43.703125  Q 93.015625 38.09375 93.015625 32.078125  Q 93.015625 19.234375 85.25 11.8125  Q 77.484375 4.390625 63.8125 4.109375  z \" id=\"DejaVuSans-64\"/>\n",
       "     </defs>\n",
       "     <use xlink:href=\"#DejaVuSans-64\"/>\n",
       "    </g>\n",
       "   </g>\n",
       "   <g id=\"text_4\">\n",
       "    <!--   -->\n",
       "    <g style=\"fill:#b4b4b4;\" transform=\"translate(26.5608 9.877969)scale(0.13 -0.13)\">\n",
       "     <use xlink:href=\"#DejaVuSans-32\"/>\n",
       "    </g>\n",
       "   </g>\n",
       "   <g id=\"text_5\">\n",
       "    <!-- n -->\n",
       "    <g style=\"fill:#444443;\" transform=\"translate(33.0894 9.877969)scale(0.13 -0.13)\">\n",
       "     <defs>\n",
       "      <path d=\"M 54.890625 33.015625  L 54.890625 0  L 45.90625 0  L 45.90625 32.71875  Q 45.90625 40.484375 42.875 44.328125  Q 39.84375 48.1875 33.796875 48.1875  Q 26.515625 48.1875 22.3125 43.546875  Q 18.109375 38.921875 18.109375 30.90625  L 18.109375 0  L 9.078125 0  L 9.078125 54.6875  L 18.109375 54.6875  L 18.109375 46.1875  Q 21.34375 51.125 25.703125 53.5625  Q 30.078125 56 35.796875 56  Q 45.21875 56 50.046875 50.171875  Q 54.890625 44.34375 54.890625 33.015625  z \" id=\"DejaVuSans-110\"/>\n",
       "     </defs>\n",
       "     <use xlink:href=\"#DejaVuSans-110\"/>\n",
       "    </g>\n",
       "   </g>\n",
       "   <g id=\"text_6\">\n",
       "    <!-- p -->\n",
       "    <g style=\"fill:#444443;\" transform=\"translate(39.618 9.877969)scale(0.13 -0.13)\">\n",
       "     <defs>\n",
       "      <path d=\"M 18.109375 8.203125  L 18.109375 -20.796875  L 9.078125 -20.796875  L 9.078125 54.6875  L 18.109375 54.6875  L 18.109375 46.390625  Q 20.953125 51.265625 25.265625 53.625  Q 29.59375 56 35.59375 56  Q 45.5625 56 51.78125 48.09375  Q 58.015625 40.1875 58.015625 27.296875  Q 58.015625 14.40625 51.78125 6.484375  Q 45.5625 -1.421875 35.59375 -1.421875  Q 29.59375 -1.421875 25.265625 0.953125  Q 20.953125 3.328125 18.109375 8.203125  z M 48.6875 27.296875  Q 48.6875 37.203125 44.609375 42.84375  Q 40.53125 48.484375 33.40625 48.484375  Q 26.265625 48.484375 22.1875 42.84375  Q 18.109375 37.203125 18.109375 27.296875  Q 18.109375 17.390625 22.1875 11.75  Q 26.265625 6.109375 33.40625 6.109375  Q 40.53125 6.109375 44.609375 11.75  Q 48.6875 17.390625 48.6875 27.296875  z \" id=\"DejaVuSans-112\"/>\n",
       "     </defs>\n",
       "     <use xlink:href=\"#DejaVuSans-112\"/>\n",
       "    </g>\n",
       "   </g>\n",
       "   <g id=\"text_7\">\n",
       "    <!-- . -->\n",
       "    <g style=\"fill:#444443;\" transform=\"translate(46.1466 9.877969)scale(0.13 -0.13)\">\n",
       "     <defs>\n",
       "      <path d=\"M 10.6875 12.40625  L 21 12.40625  L 21 0  L 10.6875 0  z \" id=\"DejaVuSans-46\"/>\n",
       "     </defs>\n",
       "     <use xlink:href=\"#DejaVuSans-46\"/>\n",
       "    </g>\n",
       "   </g>\n",
       "   <g id=\"text_8\">\n",
       "    <!-- d -->\n",
       "    <g style=\"fill:#a40227;\" transform=\"translate(52.6752 9.877969)scale(0.13 -0.13)\">\n",
       "     <defs>\n",
       "      <path d=\"M 45.40625 46.390625  L 45.40625 75.984375  L 54.390625 75.984375  L 54.390625 0  L 45.40625 0  L 45.40625 8.203125  Q 42.578125 3.328125 38.25 0.953125  Q 33.9375 -1.421875 27.875 -1.421875  Q 17.96875 -1.421875 11.734375 6.484375  Q 5.515625 14.40625 5.515625 27.296875  Q 5.515625 40.1875 11.734375 48.09375  Q 17.96875 56 27.875 56  Q 33.9375 56 38.25 53.625  Q 42.578125 51.265625 45.40625 46.390625  z M 14.796875 27.296875  Q 14.796875 17.390625 18.875 11.75  Q 22.953125 6.109375 30.078125 6.109375  Q 37.203125 6.109375 41.296875 11.75  Q 45.40625 17.390625 45.40625 27.296875  Q 45.40625 37.203125 41.296875 42.84375  Q 37.203125 48.484375 30.078125 48.484375  Q 22.953125 48.484375 18.875 42.84375  Q 14.796875 37.203125 14.796875 27.296875  z \" id=\"DejaVuSans-100\"/>\n",
       "     </defs>\n",
       "     <use xlink:href=\"#DejaVuSans-100\"/>\n",
       "    </g>\n",
       "   </g>\n",
       "   <g id=\"text_9\">\n",
       "    <!-- o -->\n",
       "    <g style=\"fill:#a40227;\" transform=\"translate(59.2038 9.877969)scale(0.13 -0.13)\">\n",
       "     <defs>\n",
       "      <path d=\"M 30.609375 48.390625  Q 23.390625 48.390625 19.1875 42.75  Q 14.984375 37.109375 14.984375 27.296875  Q 14.984375 17.484375 19.15625 11.84375  Q 23.34375 6.203125 30.609375 6.203125  Q 37.796875 6.203125 41.984375 11.859375  Q 46.1875 17.53125 46.1875 27.296875  Q 46.1875 37.015625 41.984375 42.703125  Q 37.796875 48.390625 30.609375 48.390625  z M 30.609375 56  Q 42.328125 56 49.015625 48.375  Q 55.71875 40.765625 55.71875 27.296875  Q 55.71875 13.875 49.015625 6.21875  Q 42.328125 -1.421875 30.609375 -1.421875  Q 18.84375 -1.421875 12.171875 6.21875  Q 5.515625 13.875 5.515625 27.296875  Q 5.515625 40.765625 12.171875 48.375  Q 18.84375 56 30.609375 56  z \" id=\"DejaVuSans-111\"/>\n",
       "     </defs>\n",
       "     <use xlink:href=\"#DejaVuSans-111\"/>\n",
       "    </g>\n",
       "   </g>\n",
       "   <g id=\"text_10\">\n",
       "    <!-- t -->\n",
       "    <g style=\"fill:#a40227;\" transform=\"translate(65.7324 9.877969)scale(0.13 -0.13)\">\n",
       "     <defs>\n",
       "      <path d=\"M 18.3125 70.21875  L 18.3125 54.6875  L 36.8125 54.6875  L 36.8125 47.703125  L 18.3125 47.703125  L 18.3125 18.015625  Q 18.3125 11.328125 20.140625 9.421875  Q 21.96875 7.515625 27.59375 7.515625  L 36.8125 7.515625  L 36.8125 0  L 27.59375 0  Q 17.1875 0 13.234375 3.875  Q 9.28125 7.765625 9.28125 18.015625  L 9.28125 47.703125  L 2.6875 47.703125  L 2.6875 54.6875  L 9.28125 54.6875  L 9.28125 70.21875  z \" id=\"DejaVuSans-116\"/>\n",
       "     </defs>\n",
       "     <use xlink:href=\"#DejaVuSans-116\"/>\n",
       "    </g>\n",
       "   </g>\n",
       "   <g id=\"text_11\">\n",
       "    <!-- ( -->\n",
       "    <g style=\"fill:#a40227;\" transform=\"translate(72.261 9.877969)scale(0.13 -0.13)\">\n",
       "     <defs>\n",
       "      <path d=\"M 31 75.875  Q 24.46875 64.65625 21.28125 53.65625  Q 18.109375 42.671875 18.109375 31.390625  Q 18.109375 20.125 21.3125 9.0625  Q 24.515625 -2 31 -13.1875  L 23.1875 -13.1875  Q 15.875 -1.703125 12.234375 9.375  Q 8.59375 20.453125 8.59375 31.390625  Q 8.59375 42.28125 12.203125 53.3125  Q 15.828125 64.359375 23.1875 75.875  z \" id=\"DejaVuSans-40\"/>\n",
       "     </defs>\n",
       "     <use xlink:href=\"#DejaVuSans-40\"/>\n",
       "    </g>\n",
       "   </g>\n",
       "   <g id=\"text_12\">\n",
       "    <!-- b -->\n",
       "    <g style=\"fill:#444443;\" transform=\"translate(78.7896 9.877969)scale(0.13 -0.13)\">\n",
       "     <defs>\n",
       "      <path d=\"M 48.6875 27.296875  Q 48.6875 37.203125 44.609375 42.84375  Q 40.53125 48.484375 33.40625 48.484375  Q 26.265625 48.484375 22.1875 42.84375  Q 18.109375 37.203125 18.109375 27.296875  Q 18.109375 17.390625 22.1875 11.75  Q 26.265625 6.109375 33.40625 6.109375  Q 40.53125 6.109375 44.609375 11.75  Q 48.6875 17.390625 48.6875 27.296875  z M 18.109375 46.390625  Q 20.953125 51.265625 25.265625 53.625  Q 29.59375 56 35.59375 56  Q 45.5625 56 51.78125 48.09375  Q 58.015625 40.1875 58.015625 27.296875  Q 58.015625 14.40625 51.78125 6.484375  Q 45.5625 -1.421875 35.59375 -1.421875  Q 29.59375 -1.421875 25.265625 0.953125  Q 20.953125 3.328125 18.109375 8.203125  L 18.109375 0  L 9.078125 0  L 9.078125 75.984375  L 18.109375 75.984375  z \" id=\"DejaVuSans-98\"/>\n",
       "     </defs>\n",
       "     <use xlink:href=\"#DejaVuSans-98\"/>\n",
       "    </g>\n",
       "   </g>\n",
       "   <g id=\"text_13\">\n",
       "    <!-- , -->\n",
       "    <g style=\"fill:#444443;\" transform=\"translate(85.3182 9.877969)scale(0.13 -0.13)\">\n",
       "     <defs>\n",
       "      <path d=\"M 11.71875 12.40625  L 22.015625 12.40625  L 22.015625 4  L 14.015625 -11.625  L 7.71875 -11.625  L 11.71875 4  z \" id=\"DejaVuSans-44\"/>\n",
       "     </defs>\n",
       "     <use xlink:href=\"#DejaVuSans-44\"/>\n",
       "    </g>\n",
       "   </g>\n",
       "   <g id=\"text_14\">\n",
       "    <!-- b -->\n",
       "    <g style=\"fill:#444443;\" transform=\"translate(91.8468 9.877969)scale(0.13 -0.13)\">\n",
       "     <use xlink:href=\"#DejaVuSans-98\"/>\n",
       "    </g>\n",
       "   </g>\n",
       "   <g id=\"text_15\">\n",
       "    <!-- ) -->\n",
       "    <g style=\"fill:#a40227;\" transform=\"translate(98.3754 9.877969)scale(0.13 -0.13)\">\n",
       "     <defs>\n",
       "      <path d=\"M 8.015625 75.875  L 15.828125 75.875  Q 23.140625 64.359375 26.78125 53.3125  Q 30.421875 42.28125 30.421875 31.390625  Q 30.421875 20.453125 26.78125 9.375  Q 23.140625 -1.703125 15.828125 -13.1875  L 8.015625 -13.1875  Q 14.5 -2 17.703125 9.0625  Q 20.90625 20.125 20.90625 31.390625  Q 20.90625 42.671875 17.703125 53.65625  Q 14.5 64.65625 8.015625 75.875  z \" id=\"DejaVuSans-41\"/>\n",
       "     </defs>\n",
       "     <use xlink:href=\"#DejaVuSans-41\"/>\n",
       "    </g>\n",
       "   </g>\n",
       "   <g id=\"text_16\">\n",
       "    <!--   -->\n",
       "    <g style=\"fill:#b4b4b4;\" transform=\"translate(104.904 9.877969)scale(0.13 -0.13)\">\n",
       "     <use xlink:href=\"#DejaVuSans-32\"/>\n",
       "    </g>\n",
       "   </g>\n",
       "   <g id=\"text_17\">\n",
       "    <!-- + -->\n",
       "    <g style=\"fill:#b4b4b4;\" transform=\"translate(111.4326 9.877969)scale(0.13 -0.13)\">\n",
       "     <defs>\n",
       "      <path d=\"M 46 62.703125  L 46 35.5  L 73.1875 35.5  L 73.1875 27.203125  L 46 27.203125  L 46 0  L 37.796875 0  L 37.796875 27.203125  L 10.59375 27.203125  L 10.59375 35.5  L 37.796875 35.5  L 37.796875 62.703125  z \" id=\"DejaVuSans-43\"/>\n",
       "     </defs>\n",
       "     <use xlink:href=\"#DejaVuSans-43\"/>\n",
       "    </g>\n",
       "   </g>\n",
       "   <g id=\"text_18\">\n",
       "    <!--   -->\n",
       "    <g style=\"fill:#b4b4b4;\" transform=\"translate(117.9612 9.877969)scale(0.13 -0.13)\">\n",
       "     <use xlink:href=\"#DejaVuSans-32\"/>\n",
       "    </g>\n",
       "   </g>\n",
       "   <g id=\"text_19\">\n",
       "    <!-- n -->\n",
       "    <g style=\"fill:#b4b4b4;\" transform=\"translate(124.4898 9.877969)scale(0.13 -0.13)\">\n",
       "     <use xlink:href=\"#DejaVuSans-110\"/>\n",
       "    </g>\n",
       "   </g>\n",
       "   <g id=\"text_20\">\n",
       "    <!-- p -->\n",
       "    <g style=\"fill:#b4b4b4;\" transform=\"translate(131.0184 9.877969)scale(0.13 -0.13)\">\n",
       "     <use xlink:href=\"#DejaVuSans-112\"/>\n",
       "    </g>\n",
       "   </g>\n",
       "   <g id=\"text_21\">\n",
       "    <!-- . -->\n",
       "    <g style=\"fill:#b4b4b4;\" transform=\"translate(137.547 9.877969)scale(0.13 -0.13)\">\n",
       "     <use xlink:href=\"#DejaVuSans-46\"/>\n",
       "    </g>\n",
       "   </g>\n",
       "   <g id=\"text_22\">\n",
       "    <!-- e -->\n",
       "    <g style=\"fill:#b4b4b4;\" transform=\"translate(144.0756 9.877969)scale(0.13 -0.13)\">\n",
       "     <defs>\n",
       "      <path d=\"M 56.203125 29.59375  L 56.203125 25.203125  L 14.890625 25.203125  Q 15.484375 15.921875 20.484375 11.0625  Q 25.484375 6.203125 34.421875 6.203125  Q 39.59375 6.203125 44.453125 7.46875  Q 49.3125 8.734375 54.109375 11.28125  L 54.109375 2.78125  Q 49.265625 0.734375 44.1875 -0.34375  Q 39.109375 -1.421875 33.890625 -1.421875  Q 20.796875 -1.421875 13.15625 6.1875  Q 5.515625 13.8125 5.515625 26.8125  Q 5.515625 40.234375 12.765625 48.109375  Q 20.015625 56 32.328125 56  Q 43.359375 56 49.78125 48.890625  Q 56.203125 41.796875 56.203125 29.59375  z M 47.21875 32.234375  Q 47.125 39.59375 43.09375 43.984375  Q 39.0625 48.390625 32.421875 48.390625  Q 24.90625 48.390625 20.390625 44.140625  Q 15.875 39.890625 15.1875 32.171875  z \" id=\"DejaVuSans-101\"/>\n",
       "     </defs>\n",
       "     <use xlink:href=\"#DejaVuSans-101\"/>\n",
       "    </g>\n",
       "   </g>\n",
       "   <g id=\"text_23\">\n",
       "    <!-- y -->\n",
       "    <g style=\"fill:#b4b4b4;\" transform=\"translate(150.6042 9.877969)scale(0.13 -0.13)\">\n",
       "     <defs>\n",
       "      <path d=\"M 32.171875 -5.078125  Q 28.375 -14.84375 24.75 -17.8125  Q 21.140625 -20.796875 15.09375 -20.796875  L 7.90625 -20.796875  L 7.90625 -13.28125  L 13.1875 -13.28125  Q 16.890625 -13.28125 18.9375 -11.515625  Q 21 -9.765625 23.484375 -3.21875  L 25.09375 0.875  L 2.984375 54.6875  L 12.5 54.6875  L 29.59375 11.921875  L 46.6875 54.6875  L 56.203125 54.6875  z \" id=\"DejaVuSans-121\"/>\n",
       "     </defs>\n",
       "     <use xlink:href=\"#DejaVuSans-121\"/>\n",
       "    </g>\n",
       "   </g>\n",
       "   <g id=\"text_24\">\n",
       "    <!-- e -->\n",
       "    <g style=\"fill:#b4b4b4;\" transform=\"translate(157.1328 9.877969)scale(0.13 -0.13)\">\n",
       "     <use xlink:href=\"#DejaVuSans-101\"/>\n",
       "    </g>\n",
       "   </g>\n",
       "   <g id=\"text_25\">\n",
       "    <!-- ( -->\n",
       "    <g style=\"fill:#b4b4b4;\" transform=\"translate(163.6614 9.877969)scale(0.13 -0.13)\">\n",
       "     <use xlink:href=\"#DejaVuSans-40\"/>\n",
       "    </g>\n",
       "   </g>\n",
       "   <g id=\"text_26\">\n",
       "    <!-- 2 -->\n",
       "    <g style=\"fill:#b4b4b4;\" transform=\"translate(170.19 9.877969)scale(0.13 -0.13)\">\n",
       "     <defs>\n",
       "      <path d=\"M 19.1875 8.296875  L 53.609375 8.296875  L 53.609375 0  L 7.328125 0  L 7.328125 8.296875  Q 12.9375 14.109375 22.625 23.890625  Q 32.328125 33.6875 34.8125 36.53125  Q 39.546875 41.84375 41.421875 45.53125  Q 43.3125 49.21875 43.3125 52.78125  Q 43.3125 58.59375 39.234375 62.25  Q 35.15625 65.921875 28.609375 65.921875  Q 23.96875 65.921875 18.8125 64.3125  Q 13.671875 62.703125 7.8125 59.421875  L 7.8125 69.390625  Q 13.765625 71.78125 18.9375 73  Q 24.125 74.21875 28.421875 74.21875  Q 39.75 74.21875 46.484375 68.546875  Q 53.21875 62.890625 53.21875 53.421875  Q 53.21875 48.921875 51.53125 44.890625  Q 49.859375 40.875 45.40625 35.40625  Q 44.1875 33.984375 37.640625 27.21875  Q 31.109375 20.453125 19.1875 8.296875  z \" id=\"DejaVuSans-50\"/>\n",
       "     </defs>\n",
       "     <use xlink:href=\"#DejaVuSans-50\"/>\n",
       "    </g>\n",
       "   </g>\n",
       "   <g id=\"text_27\">\n",
       "    <!-- , -->\n",
       "    <g style=\"fill:#b4b4b4;\" transform=\"translate(176.7186 9.877969)scale(0.13 -0.13)\">\n",
       "     <use xlink:href=\"#DejaVuSans-44\"/>\n",
       "    </g>\n",
       "   </g>\n",
       "   <g id=\"text_28\">\n",
       "    <!-- 2 -->\n",
       "    <g style=\"fill:#b4b4b4;\" transform=\"translate(183.2472 9.877969)scale(0.13 -0.13)\">\n",
       "     <use xlink:href=\"#DejaVuSans-50\"/>\n",
       "    </g>\n",
       "   </g>\n",
       "   <g id=\"text_29\">\n",
       "    <!-- ) -->\n",
       "    <g style=\"fill:#b4b4b4;\" transform=\"translate(189.7758 9.877969)scale(0.13 -0.13)\">\n",
       "     <use xlink:href=\"#DejaVuSans-41\"/>\n",
       "    </g>\n",
       "   </g>\n",
       "   <g id=\"text_30\">\n",
       "    <!-- @ -->\n",
       "    <g style=\"fill:#b4b4b4;\" transform=\"translate(196.3044 9.877969)scale(0.13 -0.13)\">\n",
       "     <use xlink:href=\"#DejaVuSans-64\"/>\n",
       "    </g>\n",
       "   </g>\n",
       "   <g id=\"text_31\">\n",
       "    <!-- x -->\n",
       "    <g style=\"fill:#b4b4b4;\" transform=\"translate(202.833 9.877969)scale(0.13 -0.13)\">\n",
       "     <defs>\n",
       "      <path d=\"M 54.890625 54.6875  L 35.109375 28.078125  L 55.90625 0  L 45.3125 0  L 29.390625 21.484375  L 13.484375 0  L 2.875 0  L 24.125 28.609375  L 4.6875 54.6875  L 15.28125 54.6875  L 29.78125 35.203125  L 44.28125 54.6875  z \" id=\"DejaVuSans-120\"/>\n",
       "     </defs>\n",
       "     <use xlink:href=\"#DejaVuSans-120\"/>\n",
       "    </g>\n",
       "   </g>\n",
       "   <g id=\"text_32\">\n",
       "    <!-- 2 -->\n",
       "    <g transform=\"translate(77.65371 36.97909)rotate(-90)scale(0.09 -0.09)\">\n",
       "     <defs>\n",
       "      <path d=\"M 50.34375 8.453125  L 50.34375 0  L 3.03125 0  Q 2.9375 3.171875 4.046875 6.109375  Q 5.859375 10.9375 9.828125 15.625  Q 13.8125 20.3125 21.34375 26.46875  Q 33.015625 36.03125 37.109375 41.625  Q 41.21875 47.21875 41.21875 52.203125  Q 41.21875 57.421875 37.46875 61  Q 33.734375 64.59375 27.734375 64.59375  Q 21.390625 64.59375 17.578125 60.78125  Q 13.765625 56.984375 13.71875 50.25  L 4.6875 51.171875  Q 5.609375 61.28125 11.65625 66.578125  Q 17.71875 71.875 27.9375 71.875  Q 38.234375 71.875 44.234375 66.15625  Q 50.25 60.453125 50.25 52  Q 50.25 47.703125 48.484375 43.546875  Q 46.734375 39.40625 42.65625 34.8125  Q 38.578125 30.21875 29.109375 22.21875  Q 21.1875 15.578125 18.9375 13.203125  Q 16.703125 10.84375 15.234375 8.453125  z \" id=\"ArialMT-50\"/>\n",
       "     </defs>\n",
       "     <use xlink:href=\"#ArialMT-50\"/>\n",
       "    </g>\n",
       "   </g>\n",
       "   <g id=\"text_33\">\n",
       "    <!-- 1 -->\n",
       "    <g transform=\"translate(79.551478 21.987458)scale(0.09 -0.09)\">\n",
       "     <defs>\n",
       "      <path d=\"M 37.25 0  L 28.46875 0  L 28.46875 56  Q 25.296875 52.984375 20.140625 49.953125  Q 14.984375 46.921875 10.890625 45.40625  L 10.890625 53.90625  Q 18.265625 57.375 23.78125 62.296875  Q 29.296875 67.234375 31.59375 71.875  L 37.25 71.875  z \" id=\"ArialMT-49\"/>\n",
       "     </defs>\n",
       "     <use xlink:href=\"#ArialMT-49\"/>\n",
       "    </g>\n",
       "   </g>\n",
       "   <g id=\"text_34\">\n",
       "    <!-- 2 -->\n",
       "    <g transform=\"translate(90.71091 36.97909)rotate(-90)scale(0.09 -0.09)\">\n",
       "     <use xlink:href=\"#ArialMT-50\"/>\n",
       "    </g>\n",
       "   </g>\n",
       "   <g id=\"text_35\">\n",
       "    <!-- 1 -->\n",
       "    <g transform=\"translate(92.608678 21.987458)scale(0.09 -0.09)\">\n",
       "     <use xlink:href=\"#ArialMT-49\"/>\n",
       "    </g>\n",
       "   </g>\n",
       "  </g>\n",
       " </g>\n",
       " <defs>\n",
       "  <clipPath id=\"p86c5605a8b\">\n",
       "   <rect height=\"41.491069\" width=\"209.3616\" x=\"0\" y=\"4.931209\"/>\n",
       "  </clipPath>\n",
       " </defs>\n",
       "</svg>"
      ],
      "text/plain": [
       "<IPython.core.display.SVG object>"
      ]
     },
     "metadata": {},
     "output_type": "display_data"
    },
    {
     "name": "stderr",
     "output_type": "stream",
     "text": [
      "PyTorch says: shapes (2,1) and (2,1) not aligned: 1 (dim 1) != 2 (dim 0)\n",
      "\n",
      "tsensor adds: Cause: np.dot(b,b) tensor arg b w/shape (2, 1), arg b w/shape (2, 1)\n"
     ]
    }
   ],
   "source": [
    "try: # try is used just to catch the exception and extract the messages\n",
    "    with tsensor.clarify():\n",
    "        W @ np.dot(b,b) + np.eye(2,2)@x\n",
    "except BaseException as e:\n",
    "    msgs = str(e).split(\"\\n\")\n",
    "    sys.stderr.write(\"PyTorch says: \"+msgs[0]+'\\n\\n')\n",
    "    sys.stderr.write(\"tsensor adds: \"+msgs[1]+'\\n')"
   ]
  },
  {
   "cell_type": "code",
   "execution_count": 48,
   "metadata": {
    "id": "ZIOqzAxucgM-"
   },
   "outputs": [],
   "source": [
    "import tsensor\n",
    "import torch\n",
    "import sys\n",
    "\n",
    "\n",
    "#b = torch.tensor([9, 10]).reshape((1, 2))\n",
    "b = torch.tensor([9, 10])\n",
    "_b = torch.tensor([9, 10]).reshape((2, 1))"
   ]
  },
  {
   "cell_type": "code",
   "execution_count": 49,
   "metadata": {
    "id": "UQl8aQBtcuFe"
   },
   "outputs": [
    {
     "name": "stdout",
     "output_type": "stream",
     "text": [
      "tensor(181)\n"
     ]
    }
   ],
   "source": [
    "try: # try is used just to catch the exception and extract the messages\n",
    "    with tsensor.clarify():\n",
    "       print(torch.dot(b, b))\n",
    "except BaseException as e:\n",
    "    msgs = e.args[0].split(\"\\n\")\n",
    "    sys.stderr.write(\"PyTorch says: \"+msgs[0]+'\\n\\n')\n",
    "    sys.stderr.write(\"tsensor adds: \"+msgs[1]+'\\n')"
   ]
  },
  {
   "cell_type": "code",
   "execution_count": 52,
   "metadata": {
    "colab": {
     "base_uri": "https://localhost:8080/",
     "height": 134
    },
    "id": "wk8DBEyAcwo0",
    "outputId": "65d84b92-6c49-48b4-e496-eda965a627e0"
   },
   "outputs": [
    {
     "name": "stdout",
     "output_type": "stream",
     "text": [
      "tensor([181])\n"
     ]
    }
   ],
   "source": [
    "try: # try is used just to catch the exception and extract the messages\n",
    "    with tsensor.clarify():\n",
    "       print(torch.matmul(b, _b))\n",
    "except BaseException as e:\n",
    "    msgs = e.args[0].split(\"\\n\")\n",
    "    sys.stderr.write(\"PyTorch says: \"+msgs[0]+'\\n\\n')\n",
    "    sys.stderr.write(\"tsensor adds: \"+msgs[1]+'\\n')"
   ]
  },
  {
   "cell_type": "code",
   "execution_count": null,
   "metadata": {
    "id": "FgoXKLJJc1av"
   },
   "outputs": [],
   "source": []
  },
  {
   "cell_type": "markdown",
   "metadata": {
    "id": "94BZI8_Yf-mR"
   },
   "source": [
    "## pytorch profiler\n",
    "\n",
    "- reference: https://pytorch.org/tutorials/recipes/recipes/profiler.html"
   ]
  },
  {
   "cell_type": "code",
   "execution_count": 53,
   "metadata": {
    "id": "LtlsFCsrgCcp"
   },
   "outputs": [],
   "source": [
    "import torch\n",
    "import torchvision.models as models\n",
    "import torch.autograd.profiler as profiler"
   ]
  },
  {
   "cell_type": "code",
   "execution_count": 54,
   "metadata": {
    "id": "G3YWfMudgG98"
   },
   "outputs": [],
   "source": [
    "model = models.resnet18()\n",
    "inputs = torch.randn(5, 3, 224, 224)"
   ]
  },
  {
   "cell_type": "code",
   "execution_count": 55,
   "metadata": {
    "id": "dA2pZHuwgKKZ"
   },
   "outputs": [],
   "source": [
    "with profiler.profile(record_shapes=True) as prof:\n",
    "    with profiler.record_function(\"model_inference\"):\n",
    "        model(inputs)"
   ]
  },
  {
   "cell_type": "code",
   "execution_count": 56,
   "metadata": {
    "colab": {
     "base_uri": "https://localhost:8080/"
    },
    "id": "MHrTl0-ngNtv",
    "outputId": "aa03e9e1-e8f2-405d-fbca-25a345aff1e2"
   },
   "outputs": [
    {
     "name": "stdout",
     "output_type": "stream",
     "text": [
      "---------------------------------  ------------  ------------  ------------  ------------  ------------  ------------  \n",
      "                             Name    Self CPU %      Self CPU   CPU total %     CPU total  CPU time avg    # of Calls  \n",
      "---------------------------------  ------------  ------------  ------------  ------------  ------------  ------------  \n",
      "                  model_inference        14.33%      87.059ms       100.00%     607.414ms     607.414ms             1  \n",
      "                     aten::conv2d         0.02%     132.278us        40.52%     246.110ms      12.306ms            20  \n",
      "                aten::convolution         0.02%     134.677us        40.49%     245.978ms      12.299ms            20  \n",
      "               aten::_convolution         0.08%     510.426us        40.47%     245.843ms      12.292ms            20  \n",
      "         aten::mkldnn_convolution        40.35%     245.134ms        40.38%     245.304ms      12.265ms            20  \n",
      "        aten::adaptive_avg_pool2d         0.06%     391.410us        20.45%     124.245ms     124.245ms             1  \n",
      "                       aten::mean         3.81%      23.165ms        20.39%     123.854ms     123.854ms             1  \n",
      "                 aten::batch_norm         0.06%     365.947us        16.89%     102.606ms       5.130ms            20  \n",
      "     aten::_batch_norm_impl_index         0.15%     911.319us        16.83%     102.240ms       5.112ms            20  \n",
      "          aten::native_batch_norm        13.51%      82.062ms        16.67%     101.249ms       5.062ms            20  \n",
      "---------------------------------  ------------  ------------  ------------  ------------  ------------  ------------  \n",
      "Self CPU time total: 607.445ms\n",
      "\n"
     ]
    }
   ],
   "source": [
    "print(prof.key_averages().table(sort_by=\"cpu_time_total\", row_limit=10))"
   ]
  },
  {
   "cell_type": "code",
   "execution_count": 58,
   "metadata": {
    "colab": {
     "base_uri": "https://localhost:8080/"
    },
    "id": "YYut9Tk4gT6P",
    "outputId": "00dc338f-627c-482d-ef70-976e34962c88"
   },
   "outputs": [
    {
     "name": "stdout",
     "output_type": "stream",
     "text": [
      "---------------------------------  ------------  ------------  ------------  ------------  ------------  ------------  ---------------------------------------------  \n",
      "                             Name    Self CPU %      Self CPU   CPU total %     CPU total  CPU time avg    # of Calls                                   Input Shapes  \n",
      "---------------------------------  ------------  ------------  ------------  ------------  ------------  ------------  ---------------------------------------------  \n",
      "                  model_inference        14.33%      87.059ms       100.00%     607.414ms     607.414ms             1                                             []  \n",
      "        aten::adaptive_avg_pool2d         0.06%     391.410us        20.45%     124.245ms     124.245ms             1                           [[5, 512, 7, 7], []]  \n",
      "                       aten::mean         3.81%      23.165ms        20.39%     123.854ms     123.854ms             1                   [[5, 512, 7, 7], [], [], []]  \n",
      "                        aten::sum        15.26%      92.713ms        15.27%      92.729ms      92.729ms             1               [[], [5, 512, 7, 7], [], [], []]  \n",
      "                 aten::batch_norm         0.04%     242.636us        10.74%      65.211ms      65.211ms             1  [[5, 64, 112, 112], [64], [64], [64], [64], [  \n",
      "     aten::_batch_norm_impl_index         0.13%     776.708us        10.70%      64.968ms      64.968ms             1  [[5, 64, 112, 112], [64], [64], [64], [64], [  \n",
      "          aten::native_batch_norm        10.51%      63.814ms        10.57%      64.186ms      64.186ms             1  [[5, 64, 112, 112], [64], [64], [64], [64], [  \n",
      "                     aten::conv2d         0.00%      24.456us         8.78%      53.356ms      13.339ms             4  [[5, 64, 56, 56], [64, 64, 3, 3], [], [], [],  \n",
      "                aten::convolution         0.00%      26.287us         8.78%      53.331ms      13.333ms             4  [[5, 64, 56, 56], [64, 64, 3, 3], [], [], [],  \n",
      "               aten::_convolution         0.01%      63.592us         8.78%      53.305ms      13.326ms             4  [[5, 64, 56, 56], [64, 64, 3, 3], [], [], [],  \n",
      "---------------------------------  ------------  ------------  ------------  ------------  ------------  ------------  ---------------------------------------------  \n",
      "Self CPU time total: 607.445ms\n",
      "\n"
     ]
    }
   ],
   "source": [
    "print(prof.key_averages(group_by_input_shape=True).table(sort_by=\"cpu_time_total\", row_limit=10))"
   ]
  },
  {
   "cell_type": "code",
   "execution_count": 59,
   "metadata": {
    "colab": {
     "base_uri": "https://localhost:8080/"
    },
    "id": "B9r4vBB8gbwq",
    "outputId": "f54225a0-7667-4048-bb34-b229be80bbe6"
   },
   "outputs": [
    {
     "name": "stdout",
     "output_type": "stream",
     "text": [
      "---------------------------------  ------------  ------------  ------------  ------------  ------------  ------------  ------------  ------------  \n",
      "                             Name    Self CPU %      Self CPU   CPU total %     CPU total  CPU time avg       CPU Mem  Self CPU Mem    # of Calls  \n",
      "---------------------------------  ------------  ------------  ------------  ------------  ------------  ------------  ------------  ------------  \n",
      "                      aten::empty         0.13%     366.141us         0.13%     366.141us       2.953us      94.79 Mb      94.79 Mb           124  \n",
      "                    aten::resize_         0.01%      16.919us         0.01%      16.919us       8.459us      11.48 Mb      11.48 Mb             2  \n",
      "                      aten::addmm         0.08%     247.441us         0.09%     261.289us     261.289us      19.53 Kb      19.53 Kb             1  \n",
      "              aten::empty_strided         0.00%       2.684us         0.00%       2.684us       2.684us           4 b           4 b             1  \n",
      "                     aten::conv2d         0.04%     129.021us        78.05%     227.388ms      11.369ms      47.37 Mb           0 b            20  \n",
      "                aten::convolution         0.04%     121.989us        78.00%     227.259ms      11.363ms      47.37 Mb           0 b            20  \n",
      "               aten::_convolution         0.11%     324.063us        77.96%     227.137ms      11.357ms      47.37 Mb           0 b            20  \n",
      "                 aten::contiguous         0.01%      24.886us         0.01%      24.886us       0.607us           0 b           0 b            41  \n",
      "         aten::mkldnn_convolution        77.78%     226.620ms        77.84%     226.789ms      11.339ms      47.37 Mb           0 b            20  \n",
      "                aten::as_strided_         0.01%      41.167us         0.01%      41.167us       2.058us           0 b           0 b            20  \n",
      "---------------------------------  ------------  ------------  ------------  ------------  ------------  ------------  ------------  ------------  \n",
      "Self CPU time total: 291.342ms\n",
      "\n"
     ]
    }
   ],
   "source": [
    "with profiler.profile(profile_memory=True, record_shapes=True) as prof:\n",
    "    model(inputs)\n",
    "\n",
    "print(prof.key_averages().table(sort_by=\"self_cpu_memory_usage\", row_limit=10))"
   ]
  },
  {
   "cell_type": "code",
   "execution_count": 61,
   "metadata": {
    "colab": {
     "base_uri": "https://localhost:8080/"
    },
    "id": "N3AICE4kgpC1",
    "outputId": "b423ef8a-1d69-491b-f4b6-85d492d25c91"
   },
   "outputs": [
    {
     "name": "stdout",
     "output_type": "stream",
     "text": [
      "---------------------------------  ------------  ------------  ------------  ------------  ------------  ------------  \n",
      "                             Name    Self CPU %      Self CPU   CPU total %     CPU total  CPU time avg    # of Calls  \n",
      "---------------------------------  ------------  ------------  ------------  ------------  ------------  ------------  \n",
      "                      aten::zeros         0.00%       7.009us         0.01%      20.140us      20.140us             1  \n",
      "                      aten::empty         0.11%     313.129us         0.11%     313.129us       2.485us           126  \n",
      "                      aten::zero_         0.00%       1.974us         0.00%       6.237us       6.237us             1  \n",
      "                      aten::fill_         0.00%       7.018us         0.00%       7.018us       3.509us             2  \n",
      "                  model_inference         3.86%      11.190ms        99.99%     289.732ms     289.732ms             1  \n",
      "                     aten::conv2d         0.02%      53.268us        78.65%     227.898ms      11.395ms            20  \n",
      "                aten::convolution         0.02%      50.596us        78.63%     227.845ms      11.392ms            20  \n",
      "               aten::_convolution         0.15%     446.056us        78.62%     227.794ms      11.390ms            20  \n",
      "                 aten::contiguous         0.01%      18.610us         0.01%      18.610us       0.454us            41  \n",
      "         aten::mkldnn_convolution        78.40%     227.169ms        78.46%     227.330ms      11.367ms            20  \n",
      "---------------------------------  ------------  ------------  ------------  ------------  ------------  ------------  \n",
      "Self CPU time total: 289.752ms\n",
      "\n"
     ]
    }
   ],
   "source": [
    "print(prof.key_averages().table(sort_by=\"cpu_memory_usage\", row_limit=10))"
   ]
  },
  {
   "cell_type": "code",
   "execution_count": 60,
   "metadata": {
    "id": "HRpJCFUBgziG"
   },
   "outputs": [
    {
     "ename": "OSError",
     "evalue": "[Errno 30] Read-only file system: '/trace.json'",
     "output_type": "error",
     "traceback": [
      "\u001b[0;31m---------------------------------------------------------------------------\u001b[0m",
      "\u001b[0;31mOSError\u001b[0m                                   Traceback (most recent call last)",
      "\u001b[0;32m<ipython-input-60-0e2cc629333d>\u001b[0m in \u001b[0;36m<module>\u001b[0;34m\u001b[0m\n\u001b[1;32m      3\u001b[0m         \u001b[0mmodel\u001b[0m\u001b[0;34m(\u001b[0m\u001b[0minputs\u001b[0m\u001b[0;34m)\u001b[0m\u001b[0;34m\u001b[0m\u001b[0;34m\u001b[0m\u001b[0m\n\u001b[1;32m      4\u001b[0m \u001b[0;34m\u001b[0m\u001b[0m\n\u001b[0;32m----> 5\u001b[0;31m \u001b[0mprof\u001b[0m\u001b[0;34m.\u001b[0m\u001b[0mexport_chrome_trace\u001b[0m\u001b[0;34m(\u001b[0m\u001b[0;34m\"/trace.json\"\u001b[0m\u001b[0;34m)\u001b[0m\u001b[0;34m\u001b[0m\u001b[0;34m\u001b[0m\u001b[0m\n\u001b[0m",
      "\u001b[0;32m~/Downloads/ls/lib/python3.8/site-packages/torch/autograd/profiler.py\u001b[0m in \u001b[0;36mexport_chrome_trace\u001b[0;34m(self, path)\u001b[0m\n\u001b[1;32m    433\u001b[0m         \u001b[0mself\u001b[0m\u001b[0;34m.\u001b[0m\u001b[0m_check_finish\u001b[0m\u001b[0;34m(\u001b[0m\u001b[0;34m)\u001b[0m\u001b[0;34m\u001b[0m\u001b[0;34m\u001b[0m\u001b[0m\n\u001b[1;32m    434\u001b[0m         \u001b[0;32massert\u001b[0m \u001b[0mself\u001b[0m\u001b[0;34m.\u001b[0m\u001b[0mfunction_events\u001b[0m \u001b[0;32mis\u001b[0m \u001b[0;32mnot\u001b[0m \u001b[0;32mNone\u001b[0m\u001b[0;34m\u001b[0m\u001b[0;34m\u001b[0m\u001b[0m\n\u001b[0;32m--> 435\u001b[0;31m         \u001b[0;32mreturn\u001b[0m \u001b[0mself\u001b[0m\u001b[0;34m.\u001b[0m\u001b[0mfunction_events\u001b[0m\u001b[0;34m.\u001b[0m\u001b[0mexport_chrome_trace\u001b[0m\u001b[0;34m(\u001b[0m\u001b[0mpath\u001b[0m\u001b[0;34m)\u001b[0m\u001b[0;34m\u001b[0m\u001b[0;34m\u001b[0m\u001b[0m\n\u001b[0m\u001b[1;32m    436\u001b[0m     \u001b[0mexport_chrome_trace\u001b[0m\u001b[0;34m.\u001b[0m\u001b[0m__doc__\u001b[0m \u001b[0;34m=\u001b[0m \u001b[0mEventList\u001b[0m\u001b[0;34m.\u001b[0m\u001b[0mexport_chrome_trace\u001b[0m\u001b[0;34m.\u001b[0m\u001b[0m__doc__\u001b[0m\u001b[0;34m\u001b[0m\u001b[0;34m\u001b[0m\u001b[0m\n\u001b[1;32m    437\u001b[0m \u001b[0;34m\u001b[0m\u001b[0m\n",
      "\u001b[0;32m~/Downloads/ls/lib/python3.8/site-packages/torch/autograd/profiler.py\u001b[0m in \u001b[0;36mexport_chrome_trace\u001b[0;34m(self, path)\u001b[0m\n\u001b[1;32m    188\u001b[0m         \"\"\"\n\u001b[1;32m    189\u001b[0m         \u001b[0;32mimport\u001b[0m \u001b[0mos\u001b[0m\u001b[0;34m\u001b[0m\u001b[0;34m\u001b[0m\u001b[0m\n\u001b[0;32m--> 190\u001b[0;31m         \u001b[0;32mwith\u001b[0m \u001b[0mopen\u001b[0m\u001b[0;34m(\u001b[0m\u001b[0mpath\u001b[0m\u001b[0;34m,\u001b[0m \u001b[0;34m'w'\u001b[0m\u001b[0;34m)\u001b[0m \u001b[0;32mas\u001b[0m \u001b[0mf\u001b[0m\u001b[0;34m:\u001b[0m\u001b[0;34m\u001b[0m\u001b[0;34m\u001b[0m\u001b[0m\n\u001b[0m\u001b[1;32m    191\u001b[0m             \u001b[0mchrome_events\u001b[0m \u001b[0;34m=\u001b[0m \u001b[0;34m[\u001b[0m\u001b[0;34m]\u001b[0m\u001b[0;34m\u001b[0m\u001b[0;34m\u001b[0m\u001b[0m\n\u001b[1;32m    192\u001b[0m             \u001b[0mnext_id\u001b[0m \u001b[0;34m=\u001b[0m \u001b[0;36m0\u001b[0m\u001b[0;34m\u001b[0m\u001b[0;34m\u001b[0m\u001b[0m\n",
      "\u001b[0;31mOSError\u001b[0m: [Errno 30] Read-only file system: '/trace.json'"
     ]
    }
   ],
   "source": [
    "with profiler.profile() as prof:\n",
    "    with profiler.record_function(\"model_inference\"):\n",
    "        model(inputs)\n",
    "\n",
    "prof.export_chrome_trace(\"/trace.json\")"
   ]
  },
  {
   "cell_type": "code",
   "execution_count": null,
   "metadata": {
    "id": "U35ag0rohJ4k"
   },
   "outputs": [],
   "source": [
    "prof.export_chrome_trace(\"/trace.json\")"
   ]
  },
  {
   "cell_type": "code",
   "execution_count": null,
   "metadata": {
    "colab": {
     "base_uri": "https://localhost:8080/"
    },
    "id": "Rwu8RHLgjU-2",
    "outputId": "103c7987-6ff6-47e4-c510-81304a4ae11f"
   },
   "outputs": [
    {
     "name": "stdout",
     "output_type": "stream",
     "text": [
      "Mounted at /content/gdrive\n"
     ]
    }
   ],
   "source": [
    "from google.colab import drive\n",
    "\n",
    "drive.mount('/content/gdrive')"
   ]
  },
  {
   "cell_type": "code",
   "execution_count": null,
   "metadata": {
    "id": "8ri2J0hCjmGH"
   },
   "outputs": [],
   "source": [
    "with profiler.profile() as prof:\n",
    "    with profiler.record_function(\"model_inference\"):\n",
    "        model(inputs)\n",
    "\n",
    "prof.export_chrome_trace(\"/content/gdrive/MyDrive/trace.json\")"
   ]
  }
 ],
 "metadata": {
  "colab": {
   "collapsed_sections": [],
   "name": "4. lightweight-toy-15min.ipynb",
   "provenance": []
  },
  "kernelspec": {
   "display_name": "Python 3",
   "language": "python",
   "name": "python3"
  },
  "language_info": {
   "codemirror_mode": {
    "name": "ipython",
    "version": 3
   },
   "file_extension": ".py",
   "mimetype": "text/x-python",
   "name": "python",
   "nbconvert_exporter": "python",
   "pygments_lexer": "ipython3",
   "version": "3.8.5"
  }
 },
 "nbformat": 4,
 "nbformat_minor": 1
}
